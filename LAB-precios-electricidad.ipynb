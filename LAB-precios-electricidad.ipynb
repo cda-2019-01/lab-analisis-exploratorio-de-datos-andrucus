{
 "cells": [
  {
   "cell_type": "markdown",
   "metadata": {},
   "source": [
    "Evolución de los Precios de la Electricidad\n",
    "==="
   ]
  },
  {
   "cell_type": "markdown",
   "metadata": {},
   "source": [
    "# Instrucciones"
   ]
  },
  {
   "cell_type": "markdown",
   "metadata": {},
   "source": [
    "En el archivo `precios.zip`  se encuentran los archivos `Precio_Bolsa_Nacional_($kwh)_ano.xls` en formato de Microsoft Excel, los cuales contienen los precios históricos horarios de la electricidad para el mercado eléctrico Colombiano entre los años 1995 y 2017 en COL-PESOS/kWh. A partir de la información suministrada realice las siguientes actividades. "
   ]
  },
  {
   "cell_type": "markdown",
   "metadata": {},
   "source": [
    "**1.--** Lea los archivos y cree una tabla única concatenando la información para cada uno de los años. Debe transformar la tabla de tal forma que quede con las columnas `Fecha`, `Hora` y `Precio` (únicamente tres columnas)."
   ]
  },
  {
   "cell_type": "code",
   "execution_count": 1,
   "metadata": {},
   "outputs": [],
   "source": [
    "import matplotlib.pyplot as plt\n",
    "import matplotlib as mpl\n",
    "import pandas as pd\n",
    "import numpy as np\n",
    "import datetime as dt\n",
    "import glob\n",
    "\n",
    "%matplotlib inline"
   ]
  },
  {
   "cell_type": "code",
   "execution_count": 2,
   "metadata": {},
   "outputs": [],
   "source": [
    "def LeerPrecios(filename):\n",
    "    for indice in range(10):\n",
    "        DataFrame = pd.read_excel(filename,skiprows = indice ,usecols = list(range(25)))\n",
    "        if DataFrame.iloc[0,0] == 'Fecha':\n",
    "            DataFrame = pd.read_excel(filename,skiprows = indice+1, usecols = list(range(25)))\n",
    "            break\n",
    "    return DataFrame"
   ]
  },
  {
   "cell_type": "code",
   "execution_count": 3,
   "metadata": {},
   "outputs": [],
   "source": [
    "Archivos = !ls precios/*.xls*\n",
    "DataFrames = []\n",
    "for filename in Archivos:\n",
    "    DataFrames.append(LeerPrecios(filename))\n",
    "DataFrames = pd.concat(DataFrames)\n",
    "DataFrames = pd.melt(DataFrames,id_vars = 'Fecha')\n",
    "DataFrames.columns = ['Fecha','Hora','Precio']"
   ]
  },
  {
   "cell_type": "code",
   "execution_count": 4,
   "metadata": {},
   "outputs": [
    {
     "data": {
      "text/plain": [
       "201816"
      ]
     },
     "execution_count": 4,
     "metadata": {},
     "output_type": "execute_result"
    }
   ],
   "source": [
    "DataFrames.shape[0]"
   ]
  },
  {
   "cell_type": "markdown",
   "metadata": {},
   "source": [
    "**2.--** Compute e imprima el número de registros con datos faltantes."
   ]
  },
  {
   "cell_type": "code",
   "execution_count": 69,
   "metadata": {},
   "outputs": [],
   "source": [
    "# Esta mal!!\n",
    "DataFrames.isnull().sum().sum()"
   ]
  },
  {
   "cell_type": "code",
   "execution_count": 38,
   "metadata": {},
   "outputs": [],
   "source": [
    "df1 = DataFrames.dropna()"
   ]
  },
  {
   "cell_type": "code",
   "execution_count": 41,
   "metadata": {},
   "outputs": [
    {
     "data": {
      "text/plain": [
       "238"
      ]
     },
     "execution_count": 41,
     "metadata": {},
     "output_type": "execute_result"
    }
   ],
   "source": [
    "DataFrames.shape[0] - df1.shape[0]"
   ]
  },
  {
   "cell_type": "markdown",
   "metadata": {},
   "source": [
    "**3.--** Compute e imprima el número de registros duplicados."
   ]
  },
  {
   "cell_type": "code",
   "execution_count": 44,
   "metadata": {},
   "outputs": [
    {
     "data": {
      "text/plain": [
       "1951"
      ]
     },
     "execution_count": 44,
     "metadata": {},
     "output_type": "execute_result"
    }
   ],
   "source": [
    "DataFrameSinRepetir = DataFrames.copy()\n",
    "DataFrameSinRepetir = DataFrameSinRepetir.drop_duplicates()\n",
    "TotalRepetidos =  len(DataFrames.index) - len(DataFrameSinRepetir.index)\n",
    "TotalRepetidos"
   ]
  },
  {
   "cell_type": "markdown",
   "metadata": {},
   "source": [
    "**4.--** Elimine los registros con datos duplicados o datos faltantes, e imprima la cantidad de registros que quedan (registros completos)."
   ]
  },
  {
   "cell_type": "code",
   "execution_count": 6,
   "metadata": {},
   "outputs": [
    {
     "data": {
      "text/plain": [
       "199819"
      ]
     },
     "execution_count": 6,
     "metadata": {},
     "output_type": "execute_result"
    }
   ],
   "source": [
    "DataFrameSinRepetir = DataFrames.copy()\n",
    "DataFrameSinRepetir = (DataFrameSinRepetir.drop_duplicates())\n",
    "DataFrameSinRepetir = DataFrameSinRepetir.dropna()\n",
    "len(DataFrameSinRepetir.index)"
   ]
  },
  {
   "cell_type": "markdown",
   "metadata": {},
   "source": [
    "**5.--** Compute y grafique el precio primedio diario."
   ]
  },
  {
   "cell_type": "code",
   "execution_count": 7,
   "metadata": {},
   "outputs": [],
   "source": [
    "df = DataFrames.copy()"
   ]
  },
  {
   "cell_type": "code",
   "execution_count": 80,
   "metadata": {},
   "outputs": [],
   "source": [
    "df['dia'] = pd.DatetimeIndex(df['Fecha']).day\n",
    "df['mes'] = pd.DatetimeIndex(df['Fecha']).month"
   ]
  },
  {
   "cell_type": "code",
   "execution_count": 81,
   "metadata": {},
   "outputs": [
    {
     "data": {
      "text/html": [
       "<div>\n",
       "<style scoped>\n",
       "    .dataframe tbody tr th:only-of-type {\n",
       "        vertical-align: middle;\n",
       "    }\n",
       "\n",
       "    .dataframe tbody tr th {\n",
       "        vertical-align: top;\n",
       "    }\n",
       "\n",
       "    .dataframe thead th {\n",
       "        text-align: right;\n",
       "    }\n",
       "</style>\n",
       "<table border=\"1\" class=\"dataframe\">\n",
       "  <thead>\n",
       "    <tr style=\"text-align: right;\">\n",
       "      <th></th>\n",
       "      <th>Fecha</th>\n",
       "      <th>Hora</th>\n",
       "      <th>Precio</th>\n",
       "      <th>dia</th>\n",
       "      <th>mes</th>\n",
       "    </tr>\n",
       "  </thead>\n",
       "  <tbody>\n",
       "    <tr>\n",
       "      <th>0</th>\n",
       "      <td>1995-07-20</td>\n",
       "      <td>0</td>\n",
       "      <td>NaN</td>\n",
       "      <td>20.0</td>\n",
       "      <td>7.0</td>\n",
       "    </tr>\n",
       "    <tr>\n",
       "      <th>1</th>\n",
       "      <td>1995-07-21</td>\n",
       "      <td>0</td>\n",
       "      <td>1.073</td>\n",
       "      <td>21.0</td>\n",
       "      <td>7.0</td>\n",
       "    </tr>\n",
       "    <tr>\n",
       "      <th>2</th>\n",
       "      <td>1995-07-22</td>\n",
       "      <td>0</td>\n",
       "      <td>1.073</td>\n",
       "      <td>22.0</td>\n",
       "      <td>7.0</td>\n",
       "    </tr>\n",
       "    <tr>\n",
       "      <th>3</th>\n",
       "      <td>1995-07-23</td>\n",
       "      <td>0</td>\n",
       "      <td>1.073</td>\n",
       "      <td>23.0</td>\n",
       "      <td>7.0</td>\n",
       "    </tr>\n",
       "    <tr>\n",
       "      <th>4</th>\n",
       "      <td>1995-07-24</td>\n",
       "      <td>0</td>\n",
       "      <td>1.000</td>\n",
       "      <td>24.0</td>\n",
       "      <td>7.0</td>\n",
       "    </tr>\n",
       "  </tbody>\n",
       "</table>\n",
       "</div>"
      ],
      "text/plain": [
       "        Fecha Hora  Precio   dia  mes\n",
       "0  1995-07-20    0     NaN  20.0  7.0\n",
       "1  1995-07-21    0   1.073  21.0  7.0\n",
       "2  1995-07-22    0   1.073  22.0  7.0\n",
       "3  1995-07-23    0   1.073  23.0  7.0\n",
       "4  1995-07-24    0   1.000  24.0  7.0"
      ]
     },
     "execution_count": 81,
     "metadata": {},
     "output_type": "execute_result"
    }
   ],
   "source": [
    "df.head()"
   ]
  },
  {
   "cell_type": "code",
   "execution_count": 85,
   "metadata": {},
   "outputs": [],
   "source": [
    "aux = df.groupby('dia')['Precio'].mean()"
   ]
  },
  {
   "cell_type": "code",
   "execution_count": 86,
   "metadata": {},
   "outputs": [
    {
     "data": {
      "text/plain": [
       "<matplotlib.axes._subplots.AxesSubplot at 0x7fb3850453d0>"
      ]
     },
     "execution_count": 86,
     "metadata": {},
     "output_type": "execute_result"
    },
    {
     "data": {
      "image/png": "[encoded data removed]",
      "text/plain": [
       "<Figure size 432x288 with 1 Axes>"
      ]
     },
     "metadata": {
      "needs_background": "light"
     },
     "output_type": "display_data"
    }
   ],
   "source": [
    "aux.plot(kind=\"bar\")"
   ]
  },
  {
   "cell_type": "markdown",
   "metadata": {},
   "source": [
    "**6.--** Compute y grafique el precio máximo por mes."
   ]
  },
  {
   "cell_type": "code",
   "execution_count": 89,
   "metadata": {},
   "outputs": [],
   "source": [
    "aux = df.groupby('mes')['Precio'].max()"
   ]
  },
  {
   "cell_type": "code",
   "execution_count": 90,
   "metadata": {},
   "outputs": [
    {
     "data": {
      "text/plain": [
       "<matplotlib.axes._subplots.AxesSubplot at 0x7fb381343c90>"
      ]
     },
     "execution_count": 90,
     "metadata": {},
     "output_type": "execute_result"
    },
    {
     "data": {
      "image/png": "[encoded data removed]",
      "text/plain": [
       "<Figure size 432x288 with 1 Axes>"
      ]
     },
     "metadata": {
      "needs_background": "light"
     },
     "output_type": "display_data"
    }
   ],
   "source": [
    "aux.plot(kind=\"bar\")"
   ]
  },
  {
   "cell_type": "markdown",
   "metadata": {},
   "source": [
    "**7.--** Compute y grafique el precio mínimo mensual."
   ]
  },
  {
   "cell_type": "code",
   "execution_count": 91,
   "metadata": {},
   "outputs": [],
   "source": [
    "aux = df.groupby('mes')['Precio'].min()"
   ]
  },
  {
   "cell_type": "code",
   "execution_count": 92,
   "metadata": {},
   "outputs": [
    {
     "data": {
      "text/plain": [
       "<matplotlib.axes._subplots.AxesSubplot at 0x7fb384ca4510>"
      ]
     },
     "execution_count": 92,
     "metadata": {},
     "output_type": "execute_result"
    },
    {
     "data": {
      "image/png": "[encoded data removed]",
      "text/plain": [
       "<Figure size 432x288 with 1 Axes>"
      ]
     },
     "metadata": {
      "needs_background": "light"
     },
     "output_type": "display_data"
    }
   ],
   "source": [
    "aux.plot(kind=\"bar\")"
   ]
  },
  {
   "cell_type": "markdown",
   "metadata": {},
   "source": [
    "**8.--** Haga un gráfico para comparar el precio máximo del mes (para cada mes) y el precio promedio mensual."
   ]
  },
  {
   "cell_type": "code",
   "execution_count": 94,
   "metadata": {},
   "outputs": [],
   "source": [
    "aux = df.groupby('mes')['Precio'].max()"
   ]
  },
  {
   "cell_type": "code",
   "execution_count": 96,
   "metadata": {},
   "outputs": [],
   "source": [
    "aux2 = df.groupby('mes')['Precio'].mean()"
   ]
  },
  {
   "cell_type": "code",
   "execution_count": 117,
   "metadata": {},
   "outputs": [
    {
     "data": {
      "text/plain": [
       "<matplotlib.axes._subplots.AxesSubplot at 0x7fb384532c50>"
      ]
     },
     "execution_count": 117,
     "metadata": {},
     "output_type": "execute_result"
    },
    {
     "data": {
      "image/png": "[encoded data removed]",
      "text/plain": [
       "<Figure size 432x288 with 2 Axes>"
      ]
     },
     "metadata": {
      "needs_background": "light"
     },
     "output_type": "display_data"
    }
   ],
   "source": [
    "fig, axes = plt.subplots(nrows=1, ncols=2)\n",
    "aux.plot(kind=\"bar\", ax=axes[0])\n",
    "aux2.plot(kind=\"bar\", ax=axes[1])"
   ]
  },
  {
   "cell_type": "markdown",
   "metadata": {},
   "source": [
    "**9.--** Haga un histograma que muestre a que horas se produce el máximo precio diario para los días laborales."
   ]
  },
  {
   "cell_type": "code",
   "execution_count": 136,
   "metadata": {},
   "outputs": [],
   "source": [
    "df['dia_semana'] = [a.weekday() for a in pd.to_datetime(df['Fecha'])]"
   ]
  },
  {
   "cell_type": "code",
   "execution_count": 137,
   "metadata": {},
   "outputs": [],
   "source": [
    "aux = df.copy()"
   ]
  },
  {
   "cell_type": "code",
   "execution_count": 138,
   "metadata": {},
   "outputs": [],
   "source": [
    "aux = aux[aux['dia_semana'] < 5]"
   ]
  },
  {
   "cell_type": "code",
   "execution_count": 139,
   "metadata": {},
   "outputs": [],
   "source": [
    "aux2 = aux.groupby('Fecha')['Precio'].max()#.agg({'Precio': np.max}) "
   ]
  },
  {
   "cell_type": "code",
   "execution_count": 140,
   "metadata": {},
   "outputs": [],
   "source": [
    "aux3 = pd.DataFrame({'Fecha':aux2.index, 'PrecioMax':aux2.values})"
   ]
  },
  {
   "cell_type": "code",
   "execution_count": 141,
   "metadata": {},
   "outputs": [],
   "source": [
    "aux['Fecha'] = pd.to_datetime(aux['Fecha'])"
   ]
  },
  {
   "cell_type": "code",
   "execution_count": 142,
   "metadata": {},
   "outputs": [],
   "source": [
    "aux5 = pd.merge(aux, aux3, on=['Fecha'], how='inner')"
   ]
  },
  {
   "cell_type": "code",
   "execution_count": 143,
   "metadata": {},
   "outputs": [],
   "source": [
    "aux6 = aux5[aux5['Precio'] == aux5['PrecioMax']]"
   ]
  },
  {
   "cell_type": "code",
   "execution_count": 144,
   "metadata": {},
   "outputs": [
    {
     "data": {
      "text/html": [
       "<div>\n",
       "<style scoped>\n",
       "    .dataframe tbody tr th:only-of-type {\n",
       "        vertical-align: middle;\n",
       "    }\n",
       "\n",
       "    .dataframe tbody tr th {\n",
       "        vertical-align: top;\n",
       "    }\n",
       "\n",
       "    .dataframe thead th {\n",
       "        text-align: right;\n",
       "    }\n",
       "</style>\n",
       "<table border=\"1\" class=\"dataframe\">\n",
       "  <thead>\n",
       "    <tr style=\"text-align: right;\">\n",
       "      <th></th>\n",
       "      <th>Fecha</th>\n",
       "      <th>Hora</th>\n",
       "      <th>Precio</th>\n",
       "      <th>dia_semana</th>\n",
       "      <th>PrecioMax</th>\n",
       "    </tr>\n",
       "  </thead>\n",
       "  <tbody>\n",
       "    <tr>\n",
       "      <th>10</th>\n",
       "      <td>1995-07-20</td>\n",
       "      <td>10</td>\n",
       "      <td>2.827</td>\n",
       "      <td>3.0</td>\n",
       "      <td>2.827</td>\n",
       "    </tr>\n",
       "    <tr>\n",
       "      <th>11</th>\n",
       "      <td>1995-07-20</td>\n",
       "      <td>11</td>\n",
       "      <td>2.827</td>\n",
       "      <td>3.0</td>\n",
       "      <td>2.827</td>\n",
       "    </tr>\n",
       "    <tr>\n",
       "      <th>12</th>\n",
       "      <td>1995-07-20</td>\n",
       "      <td>12</td>\n",
       "      <td>2.827</td>\n",
       "      <td>3.0</td>\n",
       "      <td>2.827</td>\n",
       "    </tr>\n",
       "    <tr>\n",
       "      <th>43</th>\n",
       "      <td>1995-07-21</td>\n",
       "      <td>19</td>\n",
       "      <td>16.670</td>\n",
       "      <td>4.0</td>\n",
       "      <td>16.670</td>\n",
       "    </tr>\n",
       "    <tr>\n",
       "      <th>67</th>\n",
       "      <td>1995-07-24</td>\n",
       "      <td>19</td>\n",
       "      <td>22.500</td>\n",
       "      <td>0.0</td>\n",
       "      <td>22.500</td>\n",
       "    </tr>\n",
       "  </tbody>\n",
       "</table>\n",
       "</div>"
      ],
      "text/plain": [
       "        Fecha Hora  Precio  dia_semana  PrecioMax\n",
       "10 1995-07-20   10   2.827         3.0      2.827\n",
       "11 1995-07-20   11   2.827         3.0      2.827\n",
       "12 1995-07-20   12   2.827         3.0      2.827\n",
       "43 1995-07-21   19  16.670         4.0     16.670\n",
       "67 1995-07-24   19  22.500         0.0     22.500"
      ]
     },
     "execution_count": 144,
     "metadata": {},
     "output_type": "execute_result"
    }
   ],
   "source": [
    "aux6.head()"
   ]
  },
  {
   "cell_type": "code",
   "execution_count": 145,
   "metadata": {},
   "outputs": [],
   "source": [
    "a = list(map(int,aux6['Hora'].tolist()))"
   ]
  },
  {
   "cell_type": "code",
   "execution_count": 146,
   "metadata": {},
   "outputs": [
    {
     "data": {
      "text/plain": [
       "(array([  42.,   29.,   25.,   20.,   31.,   92.,  135.,  169.,  300.,\n",
       "         402.,  659., 1048.,  614.,  562.,  778.,  719.,  521.,  423.,\n",
       "        2801., 5064., 1677.,  630.,  153.,   41.]),\n",
       " array([ 0.        ,  0.95833333,  1.91666667,  2.875     ,  3.83333333,\n",
       "         4.79166667,  5.75      ,  6.70833333,  7.66666667,  8.625     ,\n",
       "         9.58333333, 10.54166667, 11.5       , 12.45833333, 13.41666667,\n",
       "        14.375     , 15.33333333, 16.29166667, 17.25      , 18.20833333,\n",
       "        19.16666667, 20.125     , 21.08333333, 22.04166667, 23.        ]),\n",
       " <a list of 24 Patch objects>)"
      ]
     },
     "execution_count": 146,
     "metadata": {},
     "output_type": "execute_result"
    },
    {
     "data": {
      "image/png": "[encoded data removed]",
      "text/plain": [
       "<Figure size 432x288 with 1 Axes>"
      ]
     },
     "metadata": {
      "needs_background": "light"
     },
     "output_type": "display_data"
    }
   ],
   "source": [
    "plt.hist(a, bins=24)"
   ]
  },
  {
   "cell_type": "markdown",
   "metadata": {},
   "source": [
    "**10.--** Haga un histograma que muestre a que horas se produce el máximo precio diario para los días sabado."
   ]
  },
  {
   "cell_type": "code",
   "execution_count": null,
   "metadata": {},
   "outputs": [],
   "source": []
  },
  {
   "cell_type": "code",
   "execution_count": 15,
   "metadata": {},
   "outputs": [],
   "source": [
    "DatosPorDia = DataFrameSinRepetir.copy()\n",
    "DatosPorDia['Fecha'] = pd.to_datetime(DatosPorDia['Fecha'])\n",
    "DatosPorDia['Dia'] =  DatosPorDia[['Fecha']].apply(lambda x: dt.datetime.strftime(x['Fecha'], '%A'), axis=1)\n",
    "DataFramePorDiaSabado = DatosPorDia[(DatosPorDia['Dia'] == 'Saturday') ]\n",
    "DataFrameAgrupadoPorFecha = DataFramePorDiaSabado.groupby('Fecha').agg({'Precio': np.max}) \n",
    "DataFrameAgrupadoPorFecha.reset_index(inplace=True)\n",
    "DataFramesMerge = pd.merge(DataFramePorDiaSabado, DataFrameAgrupadoPorFecha, on=['Fecha','Precio'], how='inner')"
   ]
  },
  {
   "cell_type": "code",
   "execution_count": 16,
   "metadata": {},
   "outputs": [
    {
     "data": {
      "text/plain": [
       "Text(0, 0.5, 'Numero de ocurrencias')"
      ]
     },
     "execution_count": 16,
     "metadata": {},
     "output_type": "execute_result"
    },
    {
     "data": {
      "image/png": "[encoded data removed]",
      "text/plain": [
       "<Figure size 432x288 with 1 Axes>"
      ]
     },
     "metadata": {
      "needs_background": "light"
     },
     "output_type": "display_data"
    }
   ],
   "source": [
    "ListaDeHoras = list(map(int,DataFramesMerge['Hora'].tolist()))\n",
    "plt.hist(ListaDeHoras, bins=24)\n",
    "plt.title('Histograma : Horas en las que se presento el precio máximo \"Sabado\"')\n",
    "plt.xlabel('Horas')\n",
    "plt.ylabel('Numero de ocurrencias')"
   ]
  },
  {
   "cell_type": "markdown",
   "metadata": {},
   "source": [
    "**11.--** Haga un histograma que muestre a que horas se produce el máximo precio diario para los días domingo."
   ]
  },
  {
   "cell_type": "code",
   "execution_count": 17,
   "metadata": {},
   "outputs": [],
   "source": [
    "DatosPorDia = DataFrameSinRepetir.copy()\n",
    "DatosPorDia['Fecha'] = pd.to_datetime(DatosPorDia['Fecha'])\n",
    "DatosPorDia['Dia'] =  DatosPorDia[['Fecha']].apply(lambda x: dt.datetime.strftime(x['Fecha'], '%A'), axis=1)\n",
    "DataFramePorDiaDomingo = DatosPorDia[(DatosPorDia['Dia'] == 'Sunday') ]\n",
    "DataFrameAgrupadoPorFecha = DataFramePorDiaDomingo.groupby('Fecha').agg({'Precio': np.max}) \n",
    "DataFrameAgrupadoPorFecha.reset_index(inplace=True)\n",
    "DataFramesMerge = pd.merge(DataFramePorDiaDomingo, DataFrameAgrupadoPorFecha, on=['Fecha','Precio'], how='inner')"
   ]
  },
  {
   "cell_type": "code",
   "execution_count": 19,
   "metadata": {},
   "outputs": [
    {
     "data": {
      "text/plain": [
       "Text(0, 0.5, 'Numero de ocurrencias')"
      ]
     },
     "execution_count": 19,
     "metadata": {},
     "output_type": "execute_result"
    },
    {
     "data": {
      "image/png": "[encoded data removed]",
      "text/plain": [
       "<Figure size 432x288 with 1 Axes>"
      ]
     },
     "metadata": {
      "needs_background": "light"
     },
     "output_type": "display_data"
    }
   ],
   "source": [
    "ListaDeHoras = list(map(int,DataFramesMerge['Hora'].tolist()))\n",
    "plt.hist(ListaDeHoras, bins=24)\n",
    "plt.title('Histograma : Horas en las que se presento el precio máximo \"Domingo\"')\n",
    "plt.xlabel('Horas')\n",
    "plt.ylabel('Numero de ocurrencias')"
   ]
  },
  {
   "cell_type": "markdown",
   "metadata": {},
   "source": [
    "**12.--** Imprima una tabla con la fecha y el valor más bajo por año del precio de bolsa."
   ]
  },
  {
   "cell_type": "code",
   "execution_count": 152,
   "metadata": {},
   "outputs": [],
   "source": [
    "df['anio'] = [a.year for a in pd.to_datetime(df['Fecha'])]"
   ]
  },
  {
   "cell_type": "code",
   "execution_count": 155,
   "metadata": {},
   "outputs": [
    {
     "data": {
      "text/html": [
       "<div>\n",
       "<style scoped>\n",
       "    .dataframe tbody tr th:only-of-type {\n",
       "        vertical-align: middle;\n",
       "    }\n",
       "\n",
       "    .dataframe tbody tr th {\n",
       "        vertical-align: top;\n",
       "    }\n",
       "\n",
       "    .dataframe thead th {\n",
       "        text-align: right;\n",
       "    }\n",
       "</style>\n",
       "<table border=\"1\" class=\"dataframe\">\n",
       "  <thead>\n",
       "    <tr style=\"text-align: right;\">\n",
       "      <th></th>\n",
       "      <th>Fecha</th>\n",
       "      <th>Hora</th>\n",
       "      <th>Precio</th>\n",
       "      <th>dia_semana</th>\n",
       "      <th>anio</th>\n",
       "    </tr>\n",
       "  </thead>\n",
       "  <tbody>\n",
       "    <tr>\n",
       "      <th>0</th>\n",
       "      <td>1995-07-20</td>\n",
       "      <td>0</td>\n",
       "      <td>NaN</td>\n",
       "      <td>3.0</td>\n",
       "      <td>1995.0</td>\n",
       "    </tr>\n",
       "    <tr>\n",
       "      <th>1</th>\n",
       "      <td>1995-07-21</td>\n",
       "      <td>0</td>\n",
       "      <td>1.073</td>\n",
       "      <td>4.0</td>\n",
       "      <td>1995.0</td>\n",
       "    </tr>\n",
       "    <tr>\n",
       "      <th>2</th>\n",
       "      <td>1995-07-22</td>\n",
       "      <td>0</td>\n",
       "      <td>1.073</td>\n",
       "      <td>5.0</td>\n",
       "      <td>1995.0</td>\n",
       "    </tr>\n",
       "    <tr>\n",
       "      <th>3</th>\n",
       "      <td>1995-07-23</td>\n",
       "      <td>0</td>\n",
       "      <td>1.073</td>\n",
       "      <td>6.0</td>\n",
       "      <td>1995.0</td>\n",
       "    </tr>\n",
       "    <tr>\n",
       "      <th>4</th>\n",
       "      <td>1995-07-24</td>\n",
       "      <td>0</td>\n",
       "      <td>1.000</td>\n",
       "      <td>0.0</td>\n",
       "      <td>1995.0</td>\n",
       "    </tr>\n",
       "  </tbody>\n",
       "</table>\n",
       "</div>"
      ],
      "text/plain": [
       "        Fecha Hora  Precio  dia_semana    anio\n",
       "0  1995-07-20    0     NaN         3.0  1995.0\n",
       "1  1995-07-21    0   1.073         4.0  1995.0\n",
       "2  1995-07-22    0   1.073         5.0  1995.0\n",
       "3  1995-07-23    0   1.073         6.0  1995.0\n",
       "4  1995-07-24    0   1.000         0.0  1995.0"
      ]
     },
     "execution_count": 155,
     "metadata": {},
     "output_type": "execute_result"
    }
   ],
   "source": [
    "df.head()"
   ]
  },
  {
   "cell_type": "code",
   "execution_count": 156,
   "metadata": {},
   "outputs": [],
   "source": [
    "aux = df.copy()"
   ]
  },
  {
   "cell_type": "code",
   "execution_count": 159,
   "metadata": {},
   "outputs": [],
   "source": [
    "aux2 = aux.groupby('anio')['Precio'].min()#.agg({'Precio': np.max}) "
   ]
  },
  {
   "cell_type": "code",
   "execution_count": 160,
   "metadata": {},
   "outputs": [
    {
     "data": {
      "text/plain": [
       "anio\n",
       "1995.0     0.00000\n",
       "1996.0     0.00000\n",
       "1997.0    10.88231\n",
       "1998.0    13.84733\n",
       "1999.0    18.35953\n",
       "Name: Precio, dtype: float64"
      ]
     },
     "execution_count": 160,
     "metadata": {},
     "output_type": "execute_result"
    }
   ],
   "source": [
    "aux2.head()"
   ]
  },
  {
   "cell_type": "code",
   "execution_count": 163,
   "metadata": {},
   "outputs": [],
   "source": [
    "aux3 = pd.DataFrame({'anio':aux2.index, 'PrecioMin':aux2.values})"
   ]
  },
  {
   "cell_type": "code",
   "execution_count": 164,
   "metadata": {},
   "outputs": [
    {
     "data": {
      "text/html": [
       "<div>\n",
       "<style scoped>\n",
       "    .dataframe tbody tr th:only-of-type {\n",
       "        vertical-align: middle;\n",
       "    }\n",
       "\n",
       "    .dataframe tbody tr th {\n",
       "        vertical-align: top;\n",
       "    }\n",
       "\n",
       "    .dataframe thead th {\n",
       "        text-align: right;\n",
       "    }\n",
       "</style>\n",
       "<table border=\"1\" class=\"dataframe\">\n",
       "  <thead>\n",
       "    <tr style=\"text-align: right;\">\n",
       "      <th></th>\n",
       "      <th>PrecioMin</th>\n",
       "      <th>anio</th>\n",
       "    </tr>\n",
       "  </thead>\n",
       "  <tbody>\n",
       "    <tr>\n",
       "      <th>0</th>\n",
       "      <td>0.00000</td>\n",
       "      <td>1995.0</td>\n",
       "    </tr>\n",
       "    <tr>\n",
       "      <th>1</th>\n",
       "      <td>0.00000</td>\n",
       "      <td>1996.0</td>\n",
       "    </tr>\n",
       "    <tr>\n",
       "      <th>2</th>\n",
       "      <td>10.88231</td>\n",
       "      <td>1997.0</td>\n",
       "    </tr>\n",
       "    <tr>\n",
       "      <th>3</th>\n",
       "      <td>13.84733</td>\n",
       "      <td>1998.0</td>\n",
       "    </tr>\n",
       "    <tr>\n",
       "      <th>4</th>\n",
       "      <td>18.35953</td>\n",
       "      <td>1999.0</td>\n",
       "    </tr>\n",
       "  </tbody>\n",
       "</table>\n",
       "</div>"
      ],
      "text/plain": [
       "   PrecioMin    anio\n",
       "0    0.00000  1995.0\n",
       "1    0.00000  1996.0\n",
       "2   10.88231  1997.0\n",
       "3   13.84733  1998.0\n",
       "4   18.35953  1999.0"
      ]
     },
     "execution_count": 164,
     "metadata": {},
     "output_type": "execute_result"
    }
   ],
   "source": [
    "aux3.head()"
   ]
  },
  {
   "cell_type": "code",
   "execution_count": 165,
   "metadata": {},
   "outputs": [],
   "source": [
    "aux4 = pd.merge(aux, aux3, on=['anio'], how='inner')"
   ]
  },
  {
   "cell_type": "code",
   "execution_count": 170,
   "metadata": {},
   "outputs": [
    {
     "data": {
      "text/html": [
       "<div>\n",
       "<style scoped>\n",
       "    .dataframe tbody tr th:only-of-type {\n",
       "        vertical-align: middle;\n",
       "    }\n",
       "\n",
       "    .dataframe tbody tr th {\n",
       "        vertical-align: top;\n",
       "    }\n",
       "\n",
       "    .dataframe thead th {\n",
       "        text-align: right;\n",
       "    }\n",
       "</style>\n",
       "<table border=\"1\" class=\"dataframe\">\n",
       "  <thead>\n",
       "    <tr style=\"text-align: right;\">\n",
       "      <th></th>\n",
       "      <th>Fecha</th>\n",
       "      <th>Hora</th>\n",
       "      <th>Precio</th>\n",
       "      <th>dia_semana</th>\n",
       "      <th>anio</th>\n",
       "      <th>PrecioMin</th>\n",
       "    </tr>\n",
       "  </thead>\n",
       "  <tbody>\n",
       "    <tr>\n",
       "      <th>0</th>\n",
       "      <td>1995-07-20</td>\n",
       "      <td>0</td>\n",
       "      <td>NaN</td>\n",
       "      <td>3.0</td>\n",
       "      <td>1995.0</td>\n",
       "      <td>0.0</td>\n",
       "    </tr>\n",
       "    <tr>\n",
       "      <th>1</th>\n",
       "      <td>1995-07-21</td>\n",
       "      <td>0</td>\n",
       "      <td>1.073</td>\n",
       "      <td>4.0</td>\n",
       "      <td>1995.0</td>\n",
       "      <td>0.0</td>\n",
       "    </tr>\n",
       "    <tr>\n",
       "      <th>2</th>\n",
       "      <td>1995-07-22</td>\n",
       "      <td>0</td>\n",
       "      <td>1.073</td>\n",
       "      <td>5.0</td>\n",
       "      <td>1995.0</td>\n",
       "      <td>0.0</td>\n",
       "    </tr>\n",
       "    <tr>\n",
       "      <th>3</th>\n",
       "      <td>1995-07-23</td>\n",
       "      <td>0</td>\n",
       "      <td>1.073</td>\n",
       "      <td>6.0</td>\n",
       "      <td>1995.0</td>\n",
       "      <td>0.0</td>\n",
       "    </tr>\n",
       "    <tr>\n",
       "      <th>4</th>\n",
       "      <td>1995-07-24</td>\n",
       "      <td>0</td>\n",
       "      <td>1.000</td>\n",
       "      <td>0.0</td>\n",
       "      <td>1995.0</td>\n",
       "      <td>0.0</td>\n",
       "    </tr>\n",
       "  </tbody>\n",
       "</table>\n",
       "</div>"
      ],
      "text/plain": [
       "        Fecha Hora  Precio  dia_semana    anio  PrecioMin\n",
       "0  1995-07-20    0     NaN         3.0  1995.0        0.0\n",
       "1  1995-07-21    0   1.073         4.0  1995.0        0.0\n",
       "2  1995-07-22    0   1.073         5.0  1995.0        0.0\n",
       "3  1995-07-23    0   1.073         6.0  1995.0        0.0\n",
       "4  1995-07-24    0   1.000         0.0  1995.0        0.0"
      ]
     },
     "execution_count": 170,
     "metadata": {},
     "output_type": "execute_result"
    }
   ],
   "source": [
    "aux4.head()"
   ]
  },
  {
   "cell_type": "code",
   "execution_count": 171,
   "metadata": {},
   "outputs": [],
   "source": [
    "aux5 = aux4[aux4['Precio'] == aux4['PrecioMin']]"
   ]
  },
  {
   "cell_type": "code",
   "execution_count": 183,
   "metadata": {},
   "outputs": [],
   "source": [
    "aux6 = aux5[['Fecha', 'PrecioMin']].drop_duplicates()"
   ]
  },
  {
   "cell_type": "code",
   "execution_count": 189,
   "metadata": {},
   "outputs": [],
   "source": [
    "aux6[['Fecha', 'PrecioMin']]"
   ]
  },
  {
   "cell_type": "markdown",
   "metadata": {},
   "source": [
    "**13.--** Haga una gráfica en que se muestre el precio promedio diario y el precio promedio mensual."
   ]
  },
  {
   "cell_type": "code",
   "execution_count": 186,
   "metadata": {},
   "outputs": [],
   "source": [
    "aux = df.copy()"
   ]
  },
  {
   "cell_type": "code",
   "execution_count": 190,
   "metadata": {},
   "outputs": [],
   "source": [
    "aux['mes'] = [a.month for a in pd.to_datetime(df['Fecha'])]"
   ]
  },
  {
   "cell_type": "code",
   "execution_count": 213,
   "metadata": {},
   "outputs": [
    {
     "data": {
      "text/html": [
       "<div>\n",
       "<style scoped>\n",
       "    .dataframe tbody tr th:only-of-type {\n",
       "        vertical-align: middle;\n",
       "    }\n",
       "\n",
       "    .dataframe tbody tr th {\n",
       "        vertical-align: top;\n",
       "    }\n",
       "\n",
       "    .dataframe thead th {\n",
       "        text-align: right;\n",
       "    }\n",
       "</style>\n",
       "<table border=\"1\" class=\"dataframe\">\n",
       "  <thead>\n",
       "    <tr style=\"text-align: right;\">\n",
       "      <th></th>\n",
       "      <th>Fecha</th>\n",
       "      <th>Hora</th>\n",
       "      <th>Precio</th>\n",
       "      <th>dia_semana</th>\n",
       "      <th>anio</th>\n",
       "      <th>mes</th>\n",
       "    </tr>\n",
       "  </thead>\n",
       "  <tbody>\n",
       "    <tr>\n",
       "      <th>0</th>\n",
       "      <td>1995-07-20</td>\n",
       "      <td>0</td>\n",
       "      <td>NaN</td>\n",
       "      <td>3.0</td>\n",
       "      <td>1995.0</td>\n",
       "      <td>7.0</td>\n",
       "    </tr>\n",
       "    <tr>\n",
       "      <th>1</th>\n",
       "      <td>1995-07-21</td>\n",
       "      <td>0</td>\n",
       "      <td>1.073</td>\n",
       "      <td>4.0</td>\n",
       "      <td>1995.0</td>\n",
       "      <td>7.0</td>\n",
       "    </tr>\n",
       "    <tr>\n",
       "      <th>2</th>\n",
       "      <td>1995-07-22</td>\n",
       "      <td>0</td>\n",
       "      <td>1.073</td>\n",
       "      <td>5.0</td>\n",
       "      <td>1995.0</td>\n",
       "      <td>7.0</td>\n",
       "    </tr>\n",
       "    <tr>\n",
       "      <th>3</th>\n",
       "      <td>1995-07-23</td>\n",
       "      <td>0</td>\n",
       "      <td>1.073</td>\n",
       "      <td>6.0</td>\n",
       "      <td>1995.0</td>\n",
       "      <td>7.0</td>\n",
       "    </tr>\n",
       "    <tr>\n",
       "      <th>4</th>\n",
       "      <td>1995-07-24</td>\n",
       "      <td>0</td>\n",
       "      <td>1.000</td>\n",
       "      <td>0.0</td>\n",
       "      <td>1995.0</td>\n",
       "      <td>7.0</td>\n",
       "    </tr>\n",
       "  </tbody>\n",
       "</table>\n",
       "</div>"
      ],
      "text/plain": [
       "        Fecha Hora  Precio  dia_semana    anio  mes\n",
       "0  1995-07-20    0     NaN         3.0  1995.0  7.0\n",
       "1  1995-07-21    0   1.073         4.0  1995.0  7.0\n",
       "2  1995-07-22    0   1.073         5.0  1995.0  7.0\n",
       "3  1995-07-23    0   1.073         6.0  1995.0  7.0\n",
       "4  1995-07-24    0   1.000         0.0  1995.0  7.0"
      ]
     },
     "execution_count": 213,
     "metadata": {},
     "output_type": "execute_result"
    }
   ],
   "source": [
    "aux.head()"
   ]
  },
  {
   "cell_type": "code",
   "execution_count": 193,
   "metadata": {},
   "outputs": [],
   "source": [
    "aux1 = aux.groupby('Fecha')['Precio'].mean()"
   ]
  },
  {
   "cell_type": "code",
   "execution_count": 215,
   "metadata": {},
   "outputs": [],
   "source": [
    "aux2 = aux.groupby(['mes', 'anio'])['Precio'].mean()"
   ]
  },
  {
   "cell_type": "code",
   "execution_count": 216,
   "metadata": {},
   "outputs": [
    {
     "data": {
      "text/plain": [
       "mes  anio  \n",
       "1.0  1996.0     22.867007\n",
       "     1997.0     21.623433\n",
       "     1998.0    133.048868\n",
       "     1999.0     24.921645\n",
       "     2000.0     36.778780\n",
       "Name: Precio, dtype: float64"
      ]
     },
     "execution_count": 216,
     "metadata": {},
     "output_type": "execute_result"
    }
   ],
   "source": [
    "aux2.head()"
   ]
  },
  {
   "cell_type": "code",
   "execution_count": 230,
   "metadata": {},
   "outputs": [
    {
     "data": {
      "text/plain": [
       "Float64Index([1995.0, 1996.0, 1997.0, 1998.0, 1999.0, 2000.0, 2001.0, 2002.0,\n",
       "              2003.0, 2004.0, 2005.0, 2006.0, 2007.0, 2008.0, 2009.0, 2010.0,\n",
       "              2011.0, 2012.0, 2013.0, 2014.0, 2015.0, 2016.0, 2017.0, 2018.0],\n",
       "             dtype='float64', name=u'anio')"
      ]
     },
     "execution_count": 230,
     "metadata": {},
     "output_type": "execute_result"
    }
   ],
   "source": [
    "aux2.index.levels[1]"
   ]
  },
  {
   "cell_type": "code",
   "execution_count": 233,
   "metadata": {},
   "outputs": [],
   "source": [
    "aux3 = pd.DataFrame({'anio':aux2.index.to_numpy(), 'Prom':aux2.values})"
   ]
  },
  {
   "cell_type": "code",
   "execution_count": 247,
   "metadata": {},
   "outputs": [],
   "source": [
    "aux3['anio'] = aux3['anio'][0][1]"
   ]
  },
  {
   "cell_type": "code",
   "execution_count": 248,
   "metadata": {},
   "outputs": [
    {
     "data": {
      "text/html": [
       "<div>\n",
       "<style scoped>\n",
       "    .dataframe tbody tr th:only-of-type {\n",
       "        vertical-align: middle;\n",
       "    }\n",
       "\n",
       "    .dataframe tbody tr th {\n",
       "        vertical-align: top;\n",
       "    }\n",
       "\n",
       "    .dataframe thead th {\n",
       "        text-align: right;\n",
       "    }\n",
       "</style>\n",
       "<table border=\"1\" class=\"dataframe\">\n",
       "  <thead>\n",
       "    <tr style=\"text-align: right;\">\n",
       "      <th></th>\n",
       "      <th>PrecioMin</th>\n",
       "      <th>anio</th>\n",
       "    </tr>\n",
       "  </thead>\n",
       "  <tbody>\n",
       "    <tr>\n",
       "      <th>0</th>\n",
       "      <td>22.867007</td>\n",
       "      <td>1996.0</td>\n",
       "    </tr>\n",
       "    <tr>\n",
       "      <th>1</th>\n",
       "      <td>21.623433</td>\n",
       "      <td>1996.0</td>\n",
       "    </tr>\n",
       "    <tr>\n",
       "      <th>2</th>\n",
       "      <td>133.048868</td>\n",
       "      <td>1996.0</td>\n",
       "    </tr>\n",
       "    <tr>\n",
       "      <th>3</th>\n",
       "      <td>24.921645</td>\n",
       "      <td>1996.0</td>\n",
       "    </tr>\n",
       "    <tr>\n",
       "      <th>4</th>\n",
       "      <td>36.778780</td>\n",
       "      <td>1996.0</td>\n",
       "    </tr>\n",
       "  </tbody>\n",
       "</table>\n",
       "</div>"
      ],
      "text/plain": [
       "    PrecioMin    anio\n",
       "0   22.867007  1996.0\n",
       "1   21.623433  1996.0\n",
       "2  133.048868  1996.0\n",
       "3   24.921645  1996.0\n",
       "4   36.778780  1996.0"
      ]
     },
     "execution_count": 248,
     "metadata": {},
     "output_type": "execute_result"
    }
   ],
   "source": [
    "aux3.head()"
   ]
  },
  {
   "cell_type": "code",
   "execution_count": 254,
   "metadata": {},
   "outputs": [],
   "source": [
    "aux4 = aux3.T.squeeze()"
   ]
  },
  {
   "cell_type": "code",
   "execution_count": 257,
   "metadata": {},
   "outputs": [
    {
     "data": {
      "text/html": [
       "<div>\n",
       "<style scoped>\n",
       "    .dataframe tbody tr th:only-of-type {\n",
       "        vertical-align: middle;\n",
       "    }\n",
       "\n",
       "    .dataframe tbody tr th {\n",
       "        vertical-align: top;\n",
       "    }\n",
       "\n",
       "    .dataframe thead th {\n",
       "        text-align: right;\n",
       "    }\n",
       "</style>\n",
       "<table border=\"1\" class=\"dataframe\">\n",
       "  <thead>\n",
       "    <tr style=\"text-align: right;\">\n",
       "      <th></th>\n",
       "      <th>PrecioMin</th>\n",
       "      <th>anio</th>\n",
       "    </tr>\n",
       "  </thead>\n",
       "  <tbody>\n",
       "    <tr>\n",
       "      <th>0</th>\n",
       "      <td>22.867007</td>\n",
       "      <td>1996.0</td>\n",
       "    </tr>\n",
       "    <tr>\n",
       "      <th>1</th>\n",
       "      <td>21.623433</td>\n",
       "      <td>1996.0</td>\n",
       "    </tr>\n",
       "    <tr>\n",
       "      <th>2</th>\n",
       "      <td>133.048868</td>\n",
       "      <td>1996.0</td>\n",
       "    </tr>\n",
       "    <tr>\n",
       "      <th>3</th>\n",
       "      <td>24.921645</td>\n",
       "      <td>1996.0</td>\n",
       "    </tr>\n",
       "    <tr>\n",
       "      <th>4</th>\n",
       "      <td>36.778780</td>\n",
       "      <td>1996.0</td>\n",
       "    </tr>\n",
       "  </tbody>\n",
       "</table>\n",
       "</div>"
      ],
      "text/plain": [
       "    PrecioMin    anio\n",
       "0   22.867007  1996.0\n",
       "1   21.623433  1996.0\n",
       "2  133.048868  1996.0\n",
       "3   24.921645  1996.0\n",
       "4   36.778780  1996.0"
      ]
     },
     "execution_count": 257,
     "metadata": {},
     "output_type": "execute_result"
    }
   ],
   "source": [
    "aux3.head()"
   ]
  },
  {
   "cell_type": "code",
   "execution_count": null,
   "metadata": {},
   "outputs": [],
   "source": [
    "aux3.columns = ['']"
   ]
  },
  {
   "cell_type": "code",
   "execution_count": 249,
   "metadata": {},
   "outputs": [
    {
     "data": {
      "text/plain": [
       "Fecha\n",
       "1996-02-01    13.903167\n",
       "1996-02-02    13.559000\n",
       "1996-02-03    14.524958\n",
       "1996-02-04     7.166917\n",
       "1996-02-05     8.333542\n",
       "Name: Precio, dtype: float64"
      ]
     },
     "execution_count": 249,
     "metadata": {},
     "output_type": "execute_result"
    }
   ],
   "source": [
    "aux1.head()"
   ]
  },
  {
   "cell_type": "code",
   "execution_count": 217,
   "metadata": {},
   "outputs": [
    {
     "data": {
      "text/plain": [
       "[<matplotlib.lines.Line2D at 0x7f80e3af6250>]"
      ]
     },
     "execution_count": 217,
     "metadata": {},
     "output_type": "execute_result"
    },
    {
     "data": {
      "image/png": "[encoded data removed]",
      "text/plain": [
       "<Figure size 432x288 with 1 Axes>"
      ]
     },
     "metadata": {
      "needs_background": "light"
     },
     "output_type": "display_data"
    }
   ],
   "source": [
    "plt.plot(aux1)"
   ]
  },
  {
   "cell_type": "code",
   "execution_count": 258,
   "metadata": {},
   "outputs": [
    {
     "data": {
      "text/plain": [
       "[<matplotlib.lines.Line2D at 0x7f80e16c75d0>,\n",
       " <matplotlib.lines.Line2D at 0x7f80e168c9d0>,\n",
       " <matplotlib.lines.Line2D at 0x7f80e168cb10>,\n",
       " <matplotlib.lines.Line2D at 0x7f80e168cbd0>,\n",
       " <matplotlib.lines.Line2D at 0x7f80e168cc90>,\n",
       " <matplotlib.lines.Line2D at 0x7f80e168cd50>,\n",
       " <matplotlib.lines.Line2D at 0x7f80e168ce10>,\n",
       " <matplotlib.lines.Line2D at 0x7f80e168ced0>,\n",
       " <matplotlib.lines.Line2D at 0x7f80e168cf90>,\n",
       " <matplotlib.lines.Line2D at 0x7f80e167a090>,\n",
       " <matplotlib.lines.Line2D at 0x7f80e167a150>,\n",
       " <matplotlib.lines.Line2D at 0x7f80e167a210>,\n",
       " <matplotlib.lines.Line2D at 0x7f80e167a2d0>,\n",
       " <matplotlib.lines.Line2D at 0x7f80e167a390>,\n",
       " <matplotlib.lines.Line2D at 0x7f80e167a450>,\n",
       " <matplotlib.lines.Line2D at 0x7f80e167a510>,\n",
       " <matplotlib.lines.Line2D at 0x7f80e167a5d0>,\n",
       " <matplotlib.lines.Line2D at 0x7f80e167a690>,\n",
       " <matplotlib.lines.Line2D at 0x7f80e167a750>,\n",
       " <matplotlib.lines.Line2D at 0x7f80e167a810>,\n",
       " <matplotlib.lines.Line2D at 0x7f80e16cbc50>,\n",
       " <matplotlib.lines.Line2D at 0x7f80e167a990>,\n",
       " <matplotlib.lines.Line2D at 0x7f80e167aa50>,\n",
       " <matplotlib.lines.Line2D at 0x7f80e167ab10>,\n",
       " <matplotlib.lines.Line2D at 0x7f80e167abd0>,\n",
       " <matplotlib.lines.Line2D at 0x7f80e167ac90>,\n",
       " <matplotlib.lines.Line2D at 0x7f80e167ad50>,\n",
       " <matplotlib.lines.Line2D at 0x7f80e167ae10>,\n",
       " <matplotlib.lines.Line2D at 0x7f80e167aed0>,\n",
       " <matplotlib.lines.Line2D at 0x7f80e167af90>,\n",
       " <matplotlib.lines.Line2D at 0x7f80e167a8d0>,\n",
       " <matplotlib.lines.Line2D at 0x7f80e1692150>,\n",
       " <matplotlib.lines.Line2D at 0x7f80e1692210>,\n",
       " <matplotlib.lines.Line2D at 0x7f80e16922d0>,\n",
       " <matplotlib.lines.Line2D at 0x7f80e1692390>,\n",
       " <matplotlib.lines.Line2D at 0x7f80e1692450>,\n",
       " <matplotlib.lines.Line2D at 0x7f80e1692510>,\n",
       " <matplotlib.lines.Line2D at 0x7f80e16925d0>,\n",
       " <matplotlib.lines.Line2D at 0x7f80e1692690>,\n",
       " <matplotlib.lines.Line2D at 0x7f80e1692750>,\n",
       " <matplotlib.lines.Line2D at 0x7f80e1692090>,\n",
       " <matplotlib.lines.Line2D at 0x7f80e16928d0>,\n",
       " <matplotlib.lines.Line2D at 0x7f80e1692990>,\n",
       " <matplotlib.lines.Line2D at 0x7f80e1692a50>,\n",
       " <matplotlib.lines.Line2D at 0x7f80e1692b10>,\n",
       " <matplotlib.lines.Line2D at 0x7f80e1692bd0>,\n",
       " <matplotlib.lines.Line2D at 0x7f80e1692c90>,\n",
       " <matplotlib.lines.Line2D at 0x7f80e1692d50>,\n",
       " <matplotlib.lines.Line2D at 0x7f80e1692e10>,\n",
       " <matplotlib.lines.Line2D at 0x7f80e1692ed0>,\n",
       " <matplotlib.lines.Line2D at 0x7f80e1692810>,\n",
       " <matplotlib.lines.Line2D at 0x7f80e15ce090>,\n",
       " <matplotlib.lines.Line2D at 0x7f80e15ce150>,\n",
       " <matplotlib.lines.Line2D at 0x7f80e15ce210>,\n",
       " <matplotlib.lines.Line2D at 0x7f80e15ce2d0>,\n",
       " <matplotlib.lines.Line2D at 0x7f80e15ce390>,\n",
       " <matplotlib.lines.Line2D at 0x7f80e15ce450>,\n",
       " <matplotlib.lines.Line2D at 0x7f80e15ce510>,\n",
       " <matplotlib.lines.Line2D at 0x7f80e15ce5d0>,\n",
       " <matplotlib.lines.Line2D at 0x7f80e15ce690>,\n",
       " <matplotlib.lines.Line2D at 0x7f80e1692f90>,\n",
       " <matplotlib.lines.Line2D at 0x7f80e15ce810>,\n",
       " <matplotlib.lines.Line2D at 0x7f80e15ce8d0>,\n",
       " <matplotlib.lines.Line2D at 0x7f80e15ce990>,\n",
       " <matplotlib.lines.Line2D at 0x7f80e15cea50>,\n",
       " <matplotlib.lines.Line2D at 0x7f80e15ceb10>,\n",
       " <matplotlib.lines.Line2D at 0x7f80e15cebd0>,\n",
       " <matplotlib.lines.Line2D at 0x7f80e15cec90>,\n",
       " <matplotlib.lines.Line2D at 0x7f80e15ced50>,\n",
       " <matplotlib.lines.Line2D at 0x7f80e15cee10>,\n",
       " <matplotlib.lines.Line2D at 0x7f80e15ce750>,\n",
       " <matplotlib.lines.Line2D at 0x7f80e15cef90>,\n",
       " <matplotlib.lines.Line2D at 0x7f80e15bb090>,\n",
       " <matplotlib.lines.Line2D at 0x7f80e15bb150>,\n",
       " <matplotlib.lines.Line2D at 0x7f80e15bb210>,\n",
       " <matplotlib.lines.Line2D at 0x7f80e15bb2d0>,\n",
       " <matplotlib.lines.Line2D at 0x7f80e15bb390>,\n",
       " <matplotlib.lines.Line2D at 0x7f80e15bb450>,\n",
       " <matplotlib.lines.Line2D at 0x7f80e15bb510>,\n",
       " <matplotlib.lines.Line2D at 0x7f80e15bb5d0>,\n",
       " <matplotlib.lines.Line2D at 0x7f80e15ceed0>,\n",
       " <matplotlib.lines.Line2D at 0x7f80e15bb750>,\n",
       " <matplotlib.lines.Line2D at 0x7f80e15bb810>,\n",
       " <matplotlib.lines.Line2D at 0x7f80e15bb8d0>,\n",
       " <matplotlib.lines.Line2D at 0x7f80e15bb990>,\n",
       " <matplotlib.lines.Line2D at 0x7f80e15bba50>,\n",
       " <matplotlib.lines.Line2D at 0x7f80e15bbb10>,\n",
       " <matplotlib.lines.Line2D at 0x7f80e15bbbd0>,\n",
       " <matplotlib.lines.Line2D at 0x7f80e15bbc90>,\n",
       " <matplotlib.lines.Line2D at 0x7f80e15bbd50>,\n",
       " <matplotlib.lines.Line2D at 0x7f80e15bb690>,\n",
       " <matplotlib.lines.Line2D at 0x7f80e15bbed0>,\n",
       " <matplotlib.lines.Line2D at 0x7f80e15bbf90>,\n",
       " <matplotlib.lines.Line2D at 0x7f80e15be090>,\n",
       " <matplotlib.lines.Line2D at 0x7f80e15be150>,\n",
       " <matplotlib.lines.Line2D at 0x7f80e15be210>,\n",
       " <matplotlib.lines.Line2D at 0x7f80e15be2d0>,\n",
       " <matplotlib.lines.Line2D at 0x7f80e15be390>,\n",
       " <matplotlib.lines.Line2D at 0x7f80e15be450>,\n",
       " <matplotlib.lines.Line2D at 0x7f80e15be510>,\n",
       " <matplotlib.lines.Line2D at 0x7f80e15bbe10>,\n",
       " <matplotlib.lines.Line2D at 0x7f80e15be690>,\n",
       " <matplotlib.lines.Line2D at 0x7f80e15be750>,\n",
       " <matplotlib.lines.Line2D at 0x7f80e15be810>,\n",
       " <matplotlib.lines.Line2D at 0x7f80e15be8d0>,\n",
       " <matplotlib.lines.Line2D at 0x7f80e15be990>,\n",
       " <matplotlib.lines.Line2D at 0x7f80e15bea50>,\n",
       " <matplotlib.lines.Line2D at 0x7f80e15beb10>,\n",
       " <matplotlib.lines.Line2D at 0x7f80e15bebd0>,\n",
       " <matplotlib.lines.Line2D at 0x7f80e15bec90>,\n",
       " <matplotlib.lines.Line2D at 0x7f80e15be5d0>,\n",
       " <matplotlib.lines.Line2D at 0x7f80e15bee10>,\n",
       " <matplotlib.lines.Line2D at 0x7f80e15beed0>,\n",
       " <matplotlib.lines.Line2D at 0x7f80e15bef90>,\n",
       " <matplotlib.lines.Line2D at 0x7f80e15d4090>,\n",
       " <matplotlib.lines.Line2D at 0x7f80e15d4150>,\n",
       " <matplotlib.lines.Line2D at 0x7f80e15d4210>,\n",
       " <matplotlib.lines.Line2D at 0x7f80e15d42d0>,\n",
       " <matplotlib.lines.Line2D at 0x7f80e15d4390>,\n",
       " <matplotlib.lines.Line2D at 0x7f80e15d4450>,\n",
       " <matplotlib.lines.Line2D at 0x7f80e15bed50>,\n",
       " <matplotlib.lines.Line2D at 0x7f80e15d45d0>,\n",
       " <matplotlib.lines.Line2D at 0x7f80e15d4690>,\n",
       " <matplotlib.lines.Line2D at 0x7f80e15d4750>,\n",
       " <matplotlib.lines.Line2D at 0x7f80e15d4810>,\n",
       " <matplotlib.lines.Line2D at 0x7f80e15d48d0>,\n",
       " <matplotlib.lines.Line2D at 0x7f80e15d4990>,\n",
       " <matplotlib.lines.Line2D at 0x7f80e15d4a50>,\n",
       " <matplotlib.lines.Line2D at 0x7f80e15d4b10>,\n",
       " <matplotlib.lines.Line2D at 0x7f80e15d4bd0>,\n",
       " <matplotlib.lines.Line2D at 0x7f80e15d4510>,\n",
       " <matplotlib.lines.Line2D at 0x7f80e15d4d50>,\n",
       " <matplotlib.lines.Line2D at 0x7f80e15d4e10>,\n",
       " <matplotlib.lines.Line2D at 0x7f80e15d4ed0>,\n",
       " <matplotlib.lines.Line2D at 0x7f80e15d4f90>,\n",
       " <matplotlib.lines.Line2D at 0x7f80e15c8090>,\n",
       " <matplotlib.lines.Line2D at 0x7f80e15c8150>,\n",
       " <matplotlib.lines.Line2D at 0x7f80e15c8210>,\n",
       " <matplotlib.lines.Line2D at 0x7f80e15c82d0>,\n",
       " <matplotlib.lines.Line2D at 0x7f80e15c8390>,\n",
       " <matplotlib.lines.Line2D at 0x7f80e15d4c90>,\n",
       " <matplotlib.lines.Line2D at 0x7f80e15c8510>,\n",
       " <matplotlib.lines.Line2D at 0x7f80e15c85d0>,\n",
       " <matplotlib.lines.Line2D at 0x7f80e15c8690>,\n",
       " <matplotlib.lines.Line2D at 0x7f80e15c8750>,\n",
       " <matplotlib.lines.Line2D at 0x7f80e15c8810>,\n",
       " <matplotlib.lines.Line2D at 0x7f80e15c88d0>,\n",
       " <matplotlib.lines.Line2D at 0x7f80e15c8990>,\n",
       " <matplotlib.lines.Line2D at 0x7f80e15c8a50>,\n",
       " <matplotlib.lines.Line2D at 0x7f80e15c8b10>,\n",
       " <matplotlib.lines.Line2D at 0x7f80e15c8450>,\n",
       " <matplotlib.lines.Line2D at 0x7f80e15c8c90>,\n",
       " <matplotlib.lines.Line2D at 0x7f80e15c8d50>,\n",
       " <matplotlib.lines.Line2D at 0x7f80e15c8e10>,\n",
       " <matplotlib.lines.Line2D at 0x7f80e15c8ed0>,\n",
       " <matplotlib.lines.Line2D at 0x7f80e15c8f90>,\n",
       " <matplotlib.lines.Line2D at 0x7f80e15e0090>,\n",
       " <matplotlib.lines.Line2D at 0x7f80e15e0150>,\n",
       " <matplotlib.lines.Line2D at 0x7f80e15e0210>,\n",
       " <matplotlib.lines.Line2D at 0x7f80e15e02d0>,\n",
       " <matplotlib.lines.Line2D at 0x7f80e15c8bd0>,\n",
       " <matplotlib.lines.Line2D at 0x7f80e15e0450>,\n",
       " <matplotlib.lines.Line2D at 0x7f80e15e0510>,\n",
       " <matplotlib.lines.Line2D at 0x7f80e15e05d0>,\n",
       " <matplotlib.lines.Line2D at 0x7f80e15e0690>,\n",
       " <matplotlib.lines.Line2D at 0x7f80e15e0750>,\n",
       " <matplotlib.lines.Line2D at 0x7f80e15e0810>,\n",
       " <matplotlib.lines.Line2D at 0x7f80e15e08d0>,\n",
       " <matplotlib.lines.Line2D at 0x7f80e15e0990>,\n",
       " <matplotlib.lines.Line2D at 0x7f80e15e0a50>,\n",
       " <matplotlib.lines.Line2D at 0x7f80e15e0390>,\n",
       " <matplotlib.lines.Line2D at 0x7f80e15e0bd0>,\n",
       " <matplotlib.lines.Line2D at 0x7f80e15e0c90>,\n",
       " <matplotlib.lines.Line2D at 0x7f80e15e0d50>,\n",
       " <matplotlib.lines.Line2D at 0x7f80e15e0e10>,\n",
       " <matplotlib.lines.Line2D at 0x7f80e15e0ed0>,\n",
       " <matplotlib.lines.Line2D at 0x7f80e15e0f90>,\n",
       " <matplotlib.lines.Line2D at 0x7f80e150b090>,\n",
       " <matplotlib.lines.Line2D at 0x7f80e150b150>,\n",
       " <matplotlib.lines.Line2D at 0x7f80e150b210>,\n",
       " <matplotlib.lines.Line2D at 0x7f80e15e0b10>,\n",
       " <matplotlib.lines.Line2D at 0x7f80e150b390>,\n",
       " <matplotlib.lines.Line2D at 0x7f80e150b450>,\n",
       " <matplotlib.lines.Line2D at 0x7f80e150b510>,\n",
       " <matplotlib.lines.Line2D at 0x7f80e150b5d0>,\n",
       " <matplotlib.lines.Line2D at 0x7f80e150b690>,\n",
       " <matplotlib.lines.Line2D at 0x7f80e150b750>,\n",
       " <matplotlib.lines.Line2D at 0x7f80e150b810>,\n",
       " <matplotlib.lines.Line2D at 0x7f80e150b8d0>,\n",
       " <matplotlib.lines.Line2D at 0x7f80e150b990>,\n",
       " <matplotlib.lines.Line2D at 0x7f80e150b2d0>,\n",
       " <matplotlib.lines.Line2D at 0x7f80e150bb10>,\n",
       " <matplotlib.lines.Line2D at 0x7f80e150bbd0>,\n",
       " <matplotlib.lines.Line2D at 0x7f80e150bc90>,\n",
       " <matplotlib.lines.Line2D at 0x7f80e150bd50>,\n",
       " <matplotlib.lines.Line2D at 0x7f80e150be10>,\n",
       " <matplotlib.lines.Line2D at 0x7f80e150bed0>,\n",
       " <matplotlib.lines.Line2D at 0x7f80e150bf90>,\n",
       " <matplotlib.lines.Line2D at 0x7f80e14fc090>,\n",
       " <matplotlib.lines.Line2D at 0x7f80e14fc150>,\n",
       " <matplotlib.lines.Line2D at 0x7f80e150ba50>,\n",
       " <matplotlib.lines.Line2D at 0x7f80e14fc2d0>,\n",
       " <matplotlib.lines.Line2D at 0x7f80e14fc390>,\n",
       " <matplotlib.lines.Line2D at 0x7f80e14fc450>,\n",
       " <matplotlib.lines.Line2D at 0x7f80e14fc510>,\n",
       " <matplotlib.lines.Line2D at 0x7f80e14fc5d0>,\n",
       " <matplotlib.lines.Line2D at 0x7f80e14fc690>,\n",
       " <matplotlib.lines.Line2D at 0x7f80e14fc750>,\n",
       " <matplotlib.lines.Line2D at 0x7f80e14fc810>,\n",
       " <matplotlib.lines.Line2D at 0x7f80e14fc8d0>,\n",
       " <matplotlib.lines.Line2D at 0x7f80e14fc210>,\n",
       " <matplotlib.lines.Line2D at 0x7f80e14fca50>,\n",
       " <matplotlib.lines.Line2D at 0x7f80e14fcb10>,\n",
       " <matplotlib.lines.Line2D at 0x7f80e14fcbd0>,\n",
       " <matplotlib.lines.Line2D at 0x7f80e14fcc90>,\n",
       " <matplotlib.lines.Line2D at 0x7f80e14fcd50>,\n",
       " <matplotlib.lines.Line2D at 0x7f80e14fce10>,\n",
       " <matplotlib.lines.Line2D at 0x7f80e14fced0>,\n",
       " <matplotlib.lines.Line2D at 0x7f80e14fcf90>,\n",
       " <matplotlib.lines.Line2D at 0x7f80e14eb090>,\n",
       " <matplotlib.lines.Line2D at 0x7f80e14fc990>,\n",
       " <matplotlib.lines.Line2D at 0x7f80e14eb210>,\n",
       " <matplotlib.lines.Line2D at 0x7f80e14eb2d0>,\n",
       " <matplotlib.lines.Line2D at 0x7f80e14eb390>,\n",
       " <matplotlib.lines.Line2D at 0x7f80e14eb450>,\n",
       " <matplotlib.lines.Line2D at 0x7f80e14eb510>,\n",
       " <matplotlib.lines.Line2D at 0x7f80e14eb5d0>,\n",
       " <matplotlib.lines.Line2D at 0x7f80e14eb690>,\n",
       " <matplotlib.lines.Line2D at 0x7f80e14eb750>,\n",
       " <matplotlib.lines.Line2D at 0x7f80e14eb810>,\n",
       " <matplotlib.lines.Line2D at 0x7f80e14eb150>,\n",
       " <matplotlib.lines.Line2D at 0x7f80e14eb990>,\n",
       " <matplotlib.lines.Line2D at 0x7f80e14eba50>,\n",
       " <matplotlib.lines.Line2D at 0x7f80e14ebb10>,\n",
       " <matplotlib.lines.Line2D at 0x7f80e14ebbd0>,\n",
       " <matplotlib.lines.Line2D at 0x7f80e14ebc90>,\n",
       " <matplotlib.lines.Line2D at 0x7f80e14ebd50>,\n",
       " <matplotlib.lines.Line2D at 0x7f80e14ebe10>,\n",
       " <matplotlib.lines.Line2D at 0x7f80e14ebed0>,\n",
       " <matplotlib.lines.Line2D at 0x7f80e14ebf90>,\n",
       " <matplotlib.lines.Line2D at 0x7f80e14eb8d0>,\n",
       " <matplotlib.lines.Line2D at 0x7f80e14fb150>,\n",
       " <matplotlib.lines.Line2D at 0x7f80e14fb210>,\n",
       " <matplotlib.lines.Line2D at 0x7f80e14fb2d0>,\n",
       " <matplotlib.lines.Line2D at 0x7f80e14fb390>,\n",
       " <matplotlib.lines.Line2D at 0x7f80e14fb450>,\n",
       " <matplotlib.lines.Line2D at 0x7f80e14fb510>,\n",
       " <matplotlib.lines.Line2D at 0x7f80e14fb5d0>,\n",
       " <matplotlib.lines.Line2D at 0x7f80e14fb690>,\n",
       " <matplotlib.lines.Line2D at 0x7f80e14fb750>,\n",
       " <matplotlib.lines.Line2D at 0x7f80e14fb090>,\n",
       " <matplotlib.lines.Line2D at 0x7f80e14fb8d0>,\n",
       " <matplotlib.lines.Line2D at 0x7f80e14fb990>,\n",
       " <matplotlib.lines.Line2D at 0x7f80e14fba50>,\n",
       " <matplotlib.lines.Line2D at 0x7f80e14fbb10>,\n",
       " <matplotlib.lines.Line2D at 0x7f80e14fbbd0>,\n",
       " <matplotlib.lines.Line2D at 0x7f80e14fbc90>,\n",
       " <matplotlib.lines.Line2D at 0x7f80e14fbd50>,\n",
       " <matplotlib.lines.Line2D at 0x7f80e14fbe10>,\n",
       " <matplotlib.lines.Line2D at 0x7f80e14fbed0>,\n",
       " <matplotlib.lines.Line2D at 0x7f80e14fb810>,\n",
       " <matplotlib.lines.Line2D at 0x7f80e1511090>,\n",
       " <matplotlib.lines.Line2D at 0x7f80e1511150>,\n",
       " <matplotlib.lines.Line2D at 0x7f80e1511210>,\n",
       " <matplotlib.lines.Line2D at 0x7f80e15112d0>,\n",
       " <matplotlib.lines.Line2D at 0x7f80e1511390>,\n",
       " <matplotlib.lines.Line2D at 0x7f80e1511450>,\n",
       " <matplotlib.lines.Line2D at 0x7f80e1511510>,\n",
       " <matplotlib.lines.Line2D at 0x7f80e15115d0>,\n",
       " <matplotlib.lines.Line2D at 0x7f80e1511690>,\n",
       " <matplotlib.lines.Line2D at 0x7f80e14fbf90>,\n",
       " <matplotlib.lines.Line2D at 0x7f80e1511810>,\n",
       " <matplotlib.lines.Line2D at 0x7f80e15118d0>,\n",
       " <matplotlib.lines.Line2D at 0x7f80e1511990>,\n",
       " <matplotlib.lines.Line2D at 0x7f80e1511a50>]"
      ]
     },
     "execution_count": 258,
     "metadata": {},
     "output_type": "execute_result"
    },
    {
     "data": {
      "image/png": "[encoded data removed]",
      "text/plain": [
       "<Figure size 432x288 with 1 Axes>"
      ]
     },
     "metadata": {
      "needs_background": "light"
     },
     "output_type": "display_data"
    }
   ],
   "source": [
    "plt.plot(aux4)"
   ]
  },
  {
   "cell_type": "code",
   "execution_count": 21,
   "metadata": {},
   "outputs": [],
   "source": [
    "DatosPorMesPromedio = DataFrameSinRepetir.copy()\n",
    "DatosPorMesPromedio['Fecha'] = pd.to_datetime(DatosPorMesPromedio['Fecha'])\n",
    "DatosPorMesPromedio['Mes'] =  DatosPorMesPromedio[['Fecha']].apply(lambda x: dt.datetime.strftime(x['Fecha'], '%m'), axis=1)\n",
    "DatosPorMesPromedio['year'] =  DatosPorMesPromedio[['Fecha']].apply(lambda x: dt.datetime.strftime(x['Fecha'], '%Y'), axis=1)\n",
    "DatosPorMesYear = DatosPorMesPromedio.groupby(['Mes','year']).agg({'Precio': np.mean}) \n",
    "DatosPorMesYear.reset_index(inplace=True)\n",
    "DatosPorMesYear.columns = ['Mes','year','PromedioPorMes']\n",
    "\n",
    "DataFramesMerge = pd.merge(DatosPorMesYear, DatosPorMesPromedio, on = ['Mes','year'], how ='inner')\n",
    "\n",
    "DatosPorDia = DataFrameSinRepetir.copy()\n",
    "DatosPorDia['Fecha'] = pd.to_datetime(DatosPorDia['Fecha'])\n",
    "DatosPorDia = DatosPorDia.groupby('Fecha').agg({'Precio': np.mean}) \n",
    "DatosPorDia.reset_index(inplace=True)\n",
    "DatosPorDia.columns = ['Fecha','PrecioPorDia']\n",
    "\n",
    "DataFramesMerge = pd.merge(DatosPorMesYear, DatosPorMesPromedio, on = ['Mes','year'], how ='inner')\n",
    "DataFramesMerge = pd.merge(DataFramesMerge, DatosPorDia, on = ['Fecha'], how ='inner')\n",
    "DataFrameHaGraficar = DataFramesMerge.groupby('Fecha').agg({'PrecioPorDia': np.mean,'PromedioPorMes': np.mean}) \n"
   ]
  },
  {
   "cell_type": "code",
   "execution_count": 25,
   "metadata": {},
   "outputs": [
    {
     "data": {
      "text/plain": [
       "<matplotlib.legend.Legend at 0x7f8c33e842b0>"
      ]
     },
     "execution_count": 25,
     "metadata": {},
     "output_type": "execute_result"
    },
    {
     "data": {
      "text/plain": [
       "<Figure size 1440x1440 with 0 Axes>"
      ]
     },
     "metadata": {},
     "output_type": "display_data"
    },
    {
     "data": {
      "image/png": "[encoded data removed]",
      "text/plain": [
       "<Figure size 432x288 with 1 Axes>"
      ]
     },
     "metadata": {
      "needs_background": "light"
     },
     "output_type": "display_data"
    }
   ],
   "source": [
    "plt.figure(figsize=(20, 20))\n",
    "fig, ax = plt.subplots()\n",
    "ax.plot((DataFrameHaGraficar.index.tolist()), DataFrameHaGraficar['PrecioPorDia'], label=\"Precio promedio por día\")\n",
    "ax.plot((DataFrameHaGraficar.index.tolist()), DataFrameHaGraficar['PromedioPorMes'], label=\"Precio promedio por mes\")\n",
    "plt.xlabel(\"Año\")\n",
    "plt.ylabel(\"Precio\")\n",
    "\n",
    "ax.legend()\n"
   ]
  },
  {
   "cell_type": "markdown",
   "metadata": {},
   "source": [
    "---"
   ]
  }
 ],
 "metadata": {
  "anaconda-cloud": {},
  "kernel_info": {
   "name": "python3"
  },
  "kernelspec": {
   "display_name": "Python 2",
   "language": "python",
   "name": "python2"
  },
  "language_info": {
   "codemirror_mode": {
    "name": "ipython",
    "version": 2
   },
   "file_extension": ".py",
   "mimetype": "text/x-python",
   "name": "python",
   "nbconvert_exporter": "python",
   "pygments_lexer": "ipython2",
   "version": "2.7.15rc1"
  },
  "nteract": {
   "version": "0.7.1"
  }
 },
 "nbformat": 4,
 "nbformat_minor": 2
}
